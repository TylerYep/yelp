{
 "cells": [
  {
   "cell_type": "code",
   "execution_count": 119,
   "metadata": {},
   "outputs": [],
   "source": [
    "import snap\n",
    "import json\n",
    "import pandas as pd\n",
    "import statsmodels.api as sm\n",
    "\n",
    "G = snap.LoadEdgeList(snap.PUNGraph, 'data/toronto_edgelist_knn_20.csv', 0,1, ',')\n",
    "df = pd.read_csv('data/yelp_toronto.csv', sep=\" \")\n",
    "\n"
   ]
  },
  {
   "cell_type": "code",
   "execution_count": 120,
   "metadata": {
    "scrolled": true
   },
   "outputs": [
    {
     "name": "stdout",
     "output_type": "stream",
     "text": [
      "Index([u'idx', u'id', u'latitude', u'longitude', u'categories', u'stars',\n",
      "       u'review_count'],\n",
      "      dtype='object')\n"
     ]
    }
   ],
   "source": [
    "#figure out why it's ignoring the first column? literally hardcoding this shit rn\n",
    "print df.columns\n",
    "\n",
    "df['review_count'] = df['stars']\n",
    "df['stars'] = df['categories']\n",
    "df['categories'] = df['longitude']\n",
    "df['longitude'] = df['latitude']\n",
    "df['latitude'] = df['id']\n",
    "df['id'] = df['idx']\n",
    "df['idx'] = df.index\n",
    "\n",
    "for i in range(len(df)):\n",
    "    if not G.IsNode(i):\n",
    "        G.AddNode(i)\n"
   ]
  },
  {
   "cell_type": "code",
   "execution_count": 121,
   "metadata": {},
   "outputs": [
    {
     "name": "stdout",
     "output_type": "stream",
     "text": [
      "204794\n"
     ]
    }
   ],
   "source": [
    "#BASIC PROPERTIES TO EVALUATE: degree, clustering coefficient, vol, density\n",
    "#degree\n",
    "df['degree'] = df['idx'].map(lambda x: G.GetNI(int(x)).GetDeg())\n",
    "#clustering coefficient\n",
    "df['clust_cf'] = df['idx'].map(lambda x : snap.GetNodeClustCf(G, int(x)))"
   ]
  },
  {
   "cell_type": "code",
   "execution_count": 124,
   "metadata": {},
   "outputs": [
    {
     "name": "stdout",
     "output_type": "stream",
     "text": [
      "                            OLS Regression Results                            \n",
      "==============================================================================\n",
      "Dep. Variable:           review_count   R-squared:                       0.005\n",
      "Model:                            OLS   Adj. R-squared:                  0.004\n",
      "Method:                 Least Squares   F-statistic:                     21.89\n",
      "Date:                Tue, 06 Nov 2018   Prob (F-statistic):           3.28e-10\n",
      "Time:                        23:43:46   Log-Likelihood:                -55182.\n",
      "No. Observations:                9677   AIC:                         1.104e+05\n",
      "Df Residuals:                    9674   BIC:                         1.104e+05\n",
      "Df Model:                           2                                         \n",
      "Covariance Type:            nonrobust                                         \n",
      "==============================================================================\n",
      "                 coef    std err          t      P>|t|      [0.025      0.975]\n",
      "------------------------------------------------------------------------------\n",
      "Intercept    -38.5339     15.663     -2.460      0.014     -69.238      -7.830\n",
      "degree         0.9639      0.161      5.997      0.000       0.649       1.279\n",
      "clust_cf      53.8823     13.570      3.971      0.000      27.281      80.483\n",
      "==============================================================================\n",
      "Omnibus:                    12158.827   Durbin-Watson:                   1.986\n",
      "Prob(Omnibus):                  0.000   Jarque-Bera (JB):          3100648.144\n",
      "Skew:                           6.712   Prob(JB):                         0.00\n",
      "Kurtosis:                      89.659   Cond. No.                     1.21e+03\n",
      "==============================================================================\n",
      "\n",
      "Warnings:\n",
      "[1] Standard Errors assume that the covariance matrix of the errors is correctly specified.\n",
      "[2] The condition number is large, 1.21e+03. This might indicate that there are\n",
      "strong multicollinearity or other numerical problems.\n"
     ]
    }
   ],
   "source": [
    "model = sm.OLS.from_formula('review_count ~ degree + clust_cf', df).fit()\n",
    "print model.summary()"
   ]
  },
  {
   "cell_type": "code",
   "execution_count": null,
   "metadata": {},
   "outputs": [],
   "source": []
  }
 ],
 "metadata": {
  "kernelspec": {
   "display_name": "Python 2",
   "language": "python",
   "name": "python2"
  },
  "language_info": {
   "codemirror_mode": {
    "name": "ipython",
    "version": 2
   },
   "file_extension": ".py",
   "mimetype": "text/x-python",
   "name": "python",
   "nbconvert_exporter": "python",
   "pygments_lexer": "ipython2",
   "version": "2.7.15"
  }
 },
 "nbformat": 4,
 "nbformat_minor": 2
}
